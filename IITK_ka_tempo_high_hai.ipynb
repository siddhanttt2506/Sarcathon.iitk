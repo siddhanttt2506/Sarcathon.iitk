{
  "nbformat": 4,
  "nbformat_minor": 0,
  "metadata": {
    "colab": {
      "provenance": []
    },
    "kernelspec": {
      "name": "python3",
      "display_name": "Python 3"
    },
    "language_info": {
      "name": "python"
    }
  },
  "cells": [
    {
      "cell_type": "code",
      "execution_count": null,
      "metadata": {
        "colab": {
          "base_uri": "https://localhost:8080/"
        },
        "id": "32j8XifgEaL9",
        "outputId": "1fcc4137-ac3c-41e7-9810-84df4c1317ed"
      },
      "outputs": [
        {
          "output_type": "stream",
          "name": "stdout",
          "text": [
            "Requirement already satisfied: streamlit in /usr/local/lib/python3.10/dist-packages (1.39.0)\n",
            "Requirement already satisfied: altair<6,>=4.0 in /usr/local/lib/python3.10/dist-packages (from streamlit) (4.2.2)\n",
            "Requirement already satisfied: blinker<2,>=1.0.0 in /usr/lib/python3/dist-packages (from streamlit) (1.4)\n",
            "Requirement already satisfied: cachetools<6,>=4.0 in /usr/local/lib/python3.10/dist-packages (from streamlit) (5.5.0)\n",
            "Requirement already satisfied: click<9,>=7.0 in /usr/local/lib/python3.10/dist-packages (from streamlit) (8.1.7)\n",
            "Requirement already satisfied: numpy<3,>=1.20 in /usr/local/lib/python3.10/dist-packages (from streamlit) (1.26.4)\n",
            "Requirement already satisfied: packaging<25,>=20 in /usr/local/lib/python3.10/dist-packages (from streamlit) (24.1)\n",
            "Requirement already satisfied: pandas<3,>=1.4.0 in /usr/local/lib/python3.10/dist-packages (from streamlit) (2.2.2)\n",
            "Requirement already satisfied: pillow<11,>=7.1.0 in /usr/local/lib/python3.10/dist-packages (from streamlit) (10.4.0)\n",
            "Requirement already satisfied: protobuf<6,>=3.20 in /usr/local/lib/python3.10/dist-packages (from streamlit) (3.20.3)\n",
            "Requirement already satisfied: pyarrow>=7.0 in /usr/local/lib/python3.10/dist-packages (from streamlit) (16.1.0)\n",
            "Requirement already satisfied: requests<3,>=2.27 in /usr/local/lib/python3.10/dist-packages (from streamlit) (2.32.3)\n",
            "Requirement already satisfied: rich<14,>=10.14.0 in /usr/local/lib/python3.10/dist-packages (from streamlit) (13.9.2)\n",
            "Requirement already satisfied: tenacity<10,>=8.1.0 in /usr/local/lib/python3.10/dist-packages (from streamlit) (9.0.0)\n",
            "Requirement already satisfied: toml<2,>=0.10.1 in /usr/local/lib/python3.10/dist-packages (from streamlit) (0.10.2)\n",
            "Requirement already satisfied: typing-extensions<5,>=4.3.0 in /usr/local/lib/python3.10/dist-packages (from streamlit) (4.12.2)\n",
            "Requirement already satisfied: gitpython!=3.1.19,<4,>=3.0.7 in /usr/local/lib/python3.10/dist-packages (from streamlit) (3.1.43)\n",
            "Requirement already satisfied: pydeck<1,>=0.8.0b4 in /usr/local/lib/python3.10/dist-packages (from streamlit) (0.9.1)\n",
            "Requirement already satisfied: tornado<7,>=6.0.3 in /usr/local/lib/python3.10/dist-packages (from streamlit) (6.3.3)\n",
            "Requirement already satisfied: watchdog<6,>=2.1.5 in /usr/local/lib/python3.10/dist-packages (from streamlit) (5.0.3)\n",
            "Requirement already satisfied: entrypoints in /usr/local/lib/python3.10/dist-packages (from altair<6,>=4.0->streamlit) (0.4)\n",
            "Requirement already satisfied: jinja2 in /usr/local/lib/python3.10/dist-packages (from altair<6,>=4.0->streamlit) (3.1.4)\n",
            "Requirement already satisfied: jsonschema>=3.0 in /usr/local/lib/python3.10/dist-packages (from altair<6,>=4.0->streamlit) (4.23.0)\n",
            "Requirement already satisfied: toolz in /usr/local/lib/python3.10/dist-packages (from altair<6,>=4.0->streamlit) (0.12.1)\n",
            "Requirement already satisfied: gitdb<5,>=4.0.1 in /usr/local/lib/python3.10/dist-packages (from gitpython!=3.1.19,<4,>=3.0.7->streamlit) (4.0.11)\n",
            "Requirement already satisfied: python-dateutil>=2.8.2 in /usr/local/lib/python3.10/dist-packages (from pandas<3,>=1.4.0->streamlit) (2.8.2)\n",
            "Requirement already satisfied: pytz>=2020.1 in /usr/local/lib/python3.10/dist-packages (from pandas<3,>=1.4.0->streamlit) (2024.2)\n",
            "Requirement already satisfied: tzdata>=2022.7 in /usr/local/lib/python3.10/dist-packages (from pandas<3,>=1.4.0->streamlit) (2024.2)\n",
            "Requirement already satisfied: charset-normalizer<4,>=2 in /usr/local/lib/python3.10/dist-packages (from requests<3,>=2.27->streamlit) (3.4.0)\n",
            "Requirement already satisfied: idna<4,>=2.5 in /usr/local/lib/python3.10/dist-packages (from requests<3,>=2.27->streamlit) (3.10)\n",
            "Requirement already satisfied: urllib3<3,>=1.21.1 in /usr/local/lib/python3.10/dist-packages (from requests<3,>=2.27->streamlit) (2.2.3)\n",
            "Requirement already satisfied: certifi>=2017.4.17 in /usr/local/lib/python3.10/dist-packages (from requests<3,>=2.27->streamlit) (2024.8.30)\n",
            "Requirement already satisfied: markdown-it-py>=2.2.0 in /usr/local/lib/python3.10/dist-packages (from rich<14,>=10.14.0->streamlit) (3.0.0)\n",
            "Requirement already satisfied: pygments<3.0.0,>=2.13.0 in /usr/local/lib/python3.10/dist-packages (from rich<14,>=10.14.0->streamlit) (2.18.0)\n",
            "Requirement already satisfied: smmap<6,>=3.0.1 in /usr/local/lib/python3.10/dist-packages (from gitdb<5,>=4.0.1->gitpython!=3.1.19,<4,>=3.0.7->streamlit) (5.0.1)\n",
            "Requirement already satisfied: MarkupSafe>=2.0 in /usr/local/lib/python3.10/dist-packages (from jinja2->altair<6,>=4.0->streamlit) (3.0.2)\n",
            "Requirement already satisfied: attrs>=22.2.0 in /usr/local/lib/python3.10/dist-packages (from jsonschema>=3.0->altair<6,>=4.0->streamlit) (24.2.0)\n",
            "Requirement already satisfied: jsonschema-specifications>=2023.03.6 in /usr/local/lib/python3.10/dist-packages (from jsonschema>=3.0->altair<6,>=4.0->streamlit) (2024.10.1)\n",
            "Requirement already satisfied: referencing>=0.28.4 in /usr/local/lib/python3.10/dist-packages (from jsonschema>=3.0->altair<6,>=4.0->streamlit) (0.35.1)\n",
            "Requirement already satisfied: rpds-py>=0.7.1 in /usr/local/lib/python3.10/dist-packages (from jsonschema>=3.0->altair<6,>=4.0->streamlit) (0.20.0)\n",
            "Requirement already satisfied: mdurl~=0.1 in /usr/local/lib/python3.10/dist-packages (from markdown-it-py>=2.2.0->rich<14,>=10.14.0->streamlit) (0.1.2)\n",
            "Requirement already satisfied: six>=1.5 in /usr/local/lib/python3.10/dist-packages (from python-dateutil>=2.8.2->pandas<3,>=1.4.0->streamlit) (1.16.0)\n",
            "Requirement already satisfied: pyngrok in /usr/local/lib/python3.10/dist-packages (7.2.0)\n",
            "Requirement already satisfied: PyYAML>=5.1 in /usr/local/lib/python3.10/dist-packages (from pyngrok) (6.0.2)\n"
          ]
        }
      ],
      "source": [
        "!pip install streamlit\n",
        "!pip install pyngrok"
      ]
    },
    {
      "cell_type": "code",
      "source": [
        "!ngrok authtoken 2nniuSUDub9xNU69jkEqJUb8nJH_EJXDKVPxVHHLUwRRMPnN"
      ],
      "metadata": {
        "colab": {
          "base_uri": "https://localhost:8080/"
        },
        "id": "hRtl7b1UFyvF",
        "outputId": "185f547f-f5a4-44fb-938d-01b05b64a727"
      },
      "execution_count": null,
      "outputs": [
        {
          "output_type": "stream",
          "name": "stdout",
          "text": [
            "Authtoken saved to configuration file: /root/.config/ngrok/ngrok.yml\n"
          ]
        }
      ]
    },
    {
      "cell_type": "code",
      "source": [
        "from pyngrok import ngrok\n",
        "\n",
        "# Corrected way to start the tunnel\n",
        "public_url = ngrok.connect(8501, \"http\")  # Specify the port and the protocol (http)\n",
        "print(f\"Streamlit is live at: {public_url}\")\n"
      ],
      "metadata": {
        "colab": {
          "base_uri": "https://localhost:8080/"
        },
        "id": "_a3A34tOICma",
        "outputId": "fff74637-a40f-420d-a145-01b4309903c2"
      },
      "execution_count": null,
      "outputs": [
        {
          "output_type": "stream",
          "name": "stdout",
          "text": [
            "Streamlit is live at: NgrokTunnel: \"https://d939-35-196-255-185.ngrok-free.app\" -> \"http://localhost:8501\"\n"
          ]
        }
      ]
    },
    {
      "cell_type": "code",
      "source": [
        "%%writefile app.py\n",
        "\n",
        "import streamlit as st\n",
        "import numpy as np\n",
        "from sklearn.feature_extraction.text import TfidfVectorizer\n",
        "from sklearn.metrics.pairwise import cosine_similarity\n",
        "\n",
        "# FAQ data from SARAS AI Institute\n",
        "faq_data = [\n",
        "    {\"question\": \"What is the process for admission into SARAS AI Institute?\", \"answer\": \"The admission process at Saras AI Institute typically involves submitting the online application form along with necessary details, followed by a quick pre-Enrollment assessment to evaluate your candidature based on your personal traits and basic communication skills in English.\"},\n",
        "    {\"question\": \"Is there an aplication fee for applying to SARAS AI Institute?\", \"answer\": \"There is no application fee for applying to any program at Saras\"},\n",
        "    {\"question\": \"What is pre-enrollment assessment test? How do I prepare for it?\", \"answer\": \"It is a fully online assessment which takes less than 15 minutes. It is designed to evaluate your personal traits and basic English communication skills. You can take it at the time of filling out the application. It idoes not require any specific preparation.\"},\n",
        "    {\"question\": \"Are there any specific requirements or prerequisites for admission into the programs?\", \"answer\": \"To be a successful professional in AI, you need to possess basic mathematical proficieny - which can be demonstrated by your math scores in high school or beyond. At Saras, you learn with global peers and faculties and should possess basic communication skills in English. These make up for the basic eligibility critera\"},\n",
        "    {\"question\": \"When is the deadline for submitting the application?\", \"answer\": \"The deadline for submitting applications is 5th August 2024\"},\n",
        "    {\"question\": \"What is the curriculum like at Saras AI Institute?\", \"answer\": \"The curriculum at Saras AI Institute helps impart essential technical as well as human skills. We have designed a role-based curriculum that prepares students for one of these in-demand roles: AI/ML Engineer; Data Scientist; Gen AI Engineer. The curriculum is designed to provide a comprehensive understanding of AI principles and practices, including hands-on projects and real-world applications\"},\n",
        "    {\"question\": \"What does the program structure look like, and how is the curriculum delivered?\", \"answer\": \" Each year is divided into 5 semesters which last for 8 weeks each. Our programs feature a mix of recorded and live sessions, allowing for flexibility in learning.\"},\n",
        "    {\"question\": \" Can you provide more details about the role-based curriculum feature and how it benefits students?\", \"answer\": \"Our role-based curriculum is designed to provide targeted training and develop specialized skills in students that are highly relevant to their desired job-roles from day one.\"},\n",
        "    {\"question\": \"Do you also conduct LIVE sessions?\", \"answer\": \" Live sessions are conducted regularly to supplement the recorded content and provide opportunities for interactive learning and Q& A sessions.You get to interact with instructors as well as your dedicated coach for any help that you might need\"},\n",
        "    {\"question\": \"When is the deadline for submitting the application?\", \"answer\": \"The deadline for submitting applications is 5th August 2024\"},\n",
        "    {\"question\": \"Can I transfer credits earned at other universities to Saras AI Institute?\", \"answer\": \" Yes, we evaluate the course that you have taken, if it overlaps with our curriculum and is relevant in today's time, we offer the flexibility of transfering credits\"},\n",
        "    {\"question\": \" Who are the faculty members at Saras AI Institute?\", \"answer\": \"The faculty at Saras AI Institute consists of industry professionals who bring the most relevant skills and mentorship for the students to help them prepare for exactly what is needed to succeed in the job roles they are preparing for\"},\n",
        "    {\"question\": \"Can I connect with mentors outside of class?\", \"answer\": \"Yes, we encourage mentorship and provide opportunities for students to connect with mentors outside of class through live sessions as well as 24x7 mentor support to help resolve your doubts or queries.\"},\n",
        "    {\"question\": \"Is Saras AI Institute accredited?\", \"answer\": \"No, we are not accredited yet. This is our first Enrollment cycle and there is a minimum period before an institute can get accredited. However, we do follow the highest standards in terms of the curriculum and pedagogy for our students to become the top AI professionals\"},\n",
        "    {\"question\": \" Are the degree programs recognised by the government? \", \"answer\": \"Yes, we are a state-approved degree granting institute based in the United States.\"},\n",
        "    {\"question\": \" Do employers require an accredited degree? \", \"answer\": \" An accredited degree is not an absolute requirement from employers. We ensure our students are among the most-skilled and ready individuals to crack the best of jobs.\"},\n",
        "    {\"question\": \" Does Saras AI Institute offer employment support?  \", \"answer\": \"Yes, we provide comprehensive employment support including job placement services, resume building workshops, and interview preparation.\"},\n",
        "    {\"question\": \" Does Saras have partnerships with employers? \", \"answer\": \"Yes, we have partnered with top global companies to recruit our graduating students\"},\n",
        "    {\"question\": \" Does the university offer internship placement assistance? \", \"answer\": \"Yes, we assist students in finding internships by connecting them with potential employers and offering guidance on applications and interviews.\"},\n",
        "    {\"question\": \" Does Saras AI Institute offer any scholarships for students? How can I apply for them? \", \"answer\": \" Yes, we offer various scholarships to eligible students based on academic merit, financial need, and other criteria. You can apply for scholarships after you're offered admission. Go ahead with filling out the application to check your eligibility.\"},\n",
        "    {\"question\": \" What are the tuition fees for your courses? \", \"answer\": \"You can find detailed information and breakdown of the fee on 'Programs' page on the website\"},\n",
        "    {\"question\": \" Are there any payment plans or options available for tuition fees? \", \"answer\": \" Yes, we offer flexible payment plans to help students manage their tuition fees. At Saras AI Institute, you can pay your annual tuition fees in 5 installments, before the commencement of every semester.\"},\n",
        "    {\"question\": \" Can I avail financial aid? \", \"answer\": \" You currently can't get a federal aid for Saras AI Institute's programs. However, we are partnering with lenders who can help facilitate a loan to help pay the tuition.\"},\n",
        "]\n",
        "\n",
        "# Extracting questions\n",
        "faq_questions = [item['question'] for item in faq_data]\n",
        "\n",
        "# TF-IDF Vectorizer\n",
        "vectorizer = TfidfVectorizer()\n",
        "faq_vectors = vectorizer.fit_transform(faq_questions)\n",
        "\n",
        "# Function to get relevant FAQs\n",
        "def get_relevant_faqs(query, top_n=3):\n",
        "    query_vector = vectorizer.transform([query])\n",
        "    similarities = cosine_similarity(query_vector, faq_vectors).flatten()\n",
        "    top_indices = np.argsort(similarities)[-top_n:][::-1]\n",
        "\n",
        "    relevant_faqs = []\n",
        "    for idx in top_indices:\n",
        "        relevant_faqs.append({\n",
        "            'question': faq_questions[idx],\n",
        "            'answer': faq_data[idx]['answer'],\n",
        "            'score': similarities[idx]\n",
        "        })\n",
        "    return relevant_faqs\n",
        "\n",
        "# Streamlit App\n",
        "st.title(\"FAQ Search System\")\n",
        "\n",
        "# Input from the user\n",
        "user_query = st.text_input(\"Enter a query:\")\n",
        "\n",
        "# Display results when query is entered\n",
        "if user_query:\n",
        "    top_relevant_faqs = get_relevant_faqs(user_query)\n",
        "    st.write(\"### Top Relevant FAQs:\")\n",
        "    for i, faq in enumerate(top_relevant_faqs, 1):\n",
        "        st.write(f\"**{i}. Question:** {faq['question']}\")\n",
        "        st.write(f\"**Answer:** {faq['answer']}\")\n",
        "        st.write(f\"**Relevance Score:** {faq['score']:.2f}\\n\")"
      ],
      "metadata": {
        "colab": {
          "base_uri": "https://localhost:8080/"
        },
        "id": "xeBiMR_dEzBx",
        "outputId": "64510b12-c872-4f5e-9122-ca9acd2230bf"
      },
      "execution_count": null,
      "outputs": [
        {
          "output_type": "stream",
          "name": "stdout",
          "text": [
            "Overwriting app.py\n"
          ]
        }
      ]
    },
    {
      "cell_type": "code",
      "source": [
        "!streamlit run app.py &>/dev/null&\n"
      ],
      "metadata": {
        "id": "imo3vx-OJOBN"
      },
      "execution_count": null,
      "outputs": []
    },
    {
      "cell_type": "code",
      "source": [
        "from pyngrok import ngrok\n",
        "\n",
        "public_url = ngrok.connect(8501, \"http\")\n",
        "print(f\"Streamlit is live at: {public_url}\")\n"
      ],
      "metadata": {
        "colab": {
          "base_uri": "https://localhost:8080/"
        },
        "id": "UTJ1B6ELJQLe",
        "outputId": "84fbf8e6-2489-4277-b6bb-5d52f08eb597"
      },
      "execution_count": null,
      "outputs": [
        {
          "output_type": "stream",
          "name": "stdout",
          "text": [
            "Streamlit is live at: NgrokTunnel: \"https://96c8-35-196-255-185.ngrok-free.app\" -> \"http://localhost:8501\"\n"
          ]
        }
      ]
    },
    {
      "cell_type": "code",
      "source": [],
      "metadata": {
        "id": "C52Hl2ZpJTni"
      },
      "execution_count": null,
      "outputs": []
    }
  ]
}